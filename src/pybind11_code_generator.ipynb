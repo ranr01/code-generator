{
 "cells": [
  {
   "cell_type": "markdown",
   "metadata": {},
   "source": [
    "# Pybind11 (partial) code generator\n",
    "\n",
    "This is an attempt for a simple code generator to generate python binding for C++ libraries using [Pybind11](https://pybind11.readthedocs.io/en/stable/).\n",
    "\n",
    "It is completely based on the ideas and code presented in the excelent article [implementing a code generator with libclang](http://szelei.me/code-generator), [Source Code](https://github.com/sztomi/code-generator).\n",
    "\n",
    "It is absolutely not complete or well tested and probably contains mistakes. However it uses Clang for introspection and written in Python (3) so it can be easily understood, extended and adjusted. It therefore might be useful for somebody at some point in time.\n",
    "For occasional use it should be suitable for generating a basic code that will be further edited and adjusted (It basically just saves some annoying typing).\n",
    "\n",
    "## Usage:\n",
    "\n",
    "Given a header file the generator will use clang to build the object model of the elements defined in the file and generate a function that will bind the functions, enumerations and classes that are defined in the file.\n",
    "It will not generate the code to generate the module itself (i.e. will not generate 'example.cpp').\n",
    "\n",
    "The code is shared as a Jupyter Notebook so the user can play around with the code interactively.\n",
    "\n",
    "To notebook will allow you to generate the binding code, (section 1-3), build the module (section 4), and test it (section 5).\n",
    "\n",
    "## Dependencies:\n",
    "\n",
    "* libclang-py3 (libclang python binding)\n",
    "* mako (for working with code templates)\n",
    "* asciitree (for presenting the AST)"
   ]
  },
  {
   "cell_type": "code",
   "execution_count": 1,
   "metadata": {},
   "outputs": [],
   "source": [
    "import clang.cindex  # provided through the libclang-py3 package\n",
    "from mako.template import Template\n",
    "\n",
    "#Point the python binding to your system's libclang library file \n",
    "clang.cindex.Config.set_library_file('/usr/lib/x86_64-linux-gnu/libclang-4.0.so.1')\n"
   ]
  },
  {
   "cell_type": "markdown",
   "metadata": {},
   "source": [
    "## An aux. function to print the AST from Clang"
   ]
  },
  {
   "cell_type": "code",
   "execution_count": 2,
   "metadata": {},
   "outputs": [],
   "source": [
    "\n",
    "import asciitree # must be version 0.2\n",
    "def dump_ast(cursor,fn):\n",
    "    def node_children(node):\n",
    "        return [c for c in node.get_children() if (not c.location.file is None) and (c.location.file.name == fn)]\n",
    "\n",
    "    def print_node(node):\n",
    "        text = str(node.spelling or node.displayname)\n",
    "        kind = str(node.kind)[str(node.kind).index('.')+1:]\n",
    "        return '{} {}'.format(kind, text)\n",
    "\n",
    "    return asciitree.draw_tree(cursor, node_children, print_node) \n",
    "\n"
   ]
  },
  {
   "cell_type": "markdown",
   "metadata": {},
   "source": [
    "# 1. Defining the object model"
   ]
  },
  {
   "cell_type": "code",
   "execution_count": 3,
   "metadata": {},
   "outputs": [],
   "source": [
    "# some clang pyhton bindings return c style strings (bytes) so names need to be converted to python strings.\n",
    "def b2str(b):\n",
    "    if type(b) == str:\n",
    "        return b\n",
    "    else:\n",
    "        return str(b,'utf-8')   \n",
    "\n",
    "# Different object types that we will want to bind\n",
    "\n",
    "#classes\n",
    "class MemberFunction(object):\n",
    "    def __init__(self, cursor):\n",
    "        self.name = b2str(cursor.spelling)\n",
    "        \n",
    "class Field(object):\n",
    "    def __init__(self,cursor):\n",
    "        self.name = b2str(cursor.spelling)\n",
    "        \n",
    "class Property(object):\n",
    "    '''Assumes functions have CamelCased names that start with get and set \n",
    "    i.e. getPropName and setPropName'''\n",
    "    def __init__(self,getter,setter=None):\n",
    "        self.name = getter.name[3:]\n",
    "        self.getter = getter\n",
    "        if setter is None:\n",
    "            self.readonly=True\n",
    "        else:\n",
    "            self.readonly=False\n",
    "            self.setter = setter                \n",
    "        \n",
    "class Constructor(object):\n",
    "    def __init__(self,cursor):\n",
    "        self.arg_types=[]\n",
    "        for c in cursor.get_children():\n",
    "            arg_t = c.type.spelling\n",
    "            self.arg_types.append(arg_t)\n",
    "        \n",
    "class Class(object):\n",
    "    def __init__(self, cursor):\n",
    "        self.name = b2str(cursor.spelling)\n",
    "        self.functions = []\n",
    "        self.fields =[]\n",
    "        self.constructors = []\n",
    "        for c in cursor.get_children():\n",
    "            if c.access_specifier == clang.cindex.AccessSpecifier.PUBLIC:\n",
    "                if c.kind == clang.cindex.CursorKind.CXX_METHOD:\n",
    "                    f = MemberFunction(c)\n",
    "                    self.functions.append(f)\n",
    "                elif c.kind == clang.cindex.CursorKind.FIELD_DECL:\n",
    "                    f = Field(c)\n",
    "                    self.fields.append(f)\n",
    "                elif c.kind == clang.cindex.CursorKind.CONSTRUCTOR:\n",
    "                    f = Constructor(c)\n",
    "                    self.constructors.append(f)\n",
    "                    \n",
    "        getters = [f for f in self.functions if f.name.startswith('get')]\n",
    "        setters = [f for f in self.functions if f.name.startswith('set')]\n",
    "        #remove getters and setters from functions\n",
    "        self.functions = [f for f in self.functions if not(f in getters or f in setters)]\n",
    "        #creates a list of properties from the getters and setters\n",
    "        self.properties = []\n",
    "        for getter in getters:\n",
    "            # try and find a setter\n",
    "            try:\n",
    "                setter = [f for f in setters if f.name[3:]==getter.name[3:]][0]\n",
    "            except IndexError: # only a getter exists\n",
    "                p = Property(getter)\n",
    "            else: #both getter and setter exist\n",
    "                p = Property(getter,setter)\n",
    "            self.properties.append(p)\n",
    "        \n",
    "# global functions and enumerations\n",
    "class Function(object):\n",
    "    def __init__(self, cursor):\n",
    "        self.name = b2str(cursor.spelling)\n",
    "        \n",
    "class Enumerator(object):\n",
    "    def __init__(self,cursor):\n",
    "        self.name = b2str(cursor.spelling)\n",
    "        \n",
    "class Enum(object):\n",
    "    def __init__(self,cursor):\n",
    "        self.name = b2str(cursor.spelling)\n",
    "        self.enumerators = []\n",
    "        for c in cursor.get_children():\n",
    "            if c.kind == clang.cindex.CursorKind.ENUM_CONSTANT_DECL:\n",
    "                self.enumerators.append(Enumerator(c))   \n",
    "                \n",
    "\n",
    "#building object model\n",
    "def build_object_model(cursor,fn):\n",
    "    classes = []\n",
    "    functions = []\n",
    "    enums = []\n",
    "    for c in cursor.get_children():\n",
    "        #only export elements from the parsed file\n",
    "        if c.location.file.name == fn:\n",
    "            if c.kind == clang.cindex.CursorKind.CLASS_DECL:\n",
    "                a_class = Class(c)\n",
    "                classes.append(a_class)\n",
    "            elif c.kind == clang.cindex.CursorKind.FUNCTION_DECL:\n",
    "                functions.append(Function(c))\n",
    "            elif c.kind == clang.cindex.CursorKind.ENUM_DECL:\n",
    "                enums.append(Enum(c))\n",
    "                \n",
    "    return classes,functions,enums\n"
   ]
  },
  {
   "cell_type": "markdown",
   "metadata": {},
   "source": [
    "# 2. A template to generate the code form the object model"
   ]
  },
  {
   "cell_type": "code",
   "execution_count": 4,
   "metadata": {},
   "outputs": [],
   "source": [
    "bind_template=\"\"\"\n",
    "#include <pybind11/pybind11.h>\n",
    "#include \"${include_file}\"\n",
    "\n",
    "namespace py = pybind11;\n",
    "\n",
    "void bind_${include_file[:-2]}(py::module & m)\n",
    "{\n",
    "% for e in enums:\n",
    "    py::enum_<${e.name}>(m, \"${e.name}\", \"\")\n",
    "    % for ee in e.enumerators:\n",
    "        .value(\"${ee.name}\", ${e.name}::${ee.name})\n",
    "    % endfor\n",
    "        .export_values();\n",
    "%endfor\n",
    "\n",
    "% for f in functions:\n",
    "    m.def(\"${f.name}\",&${f.name});\n",
    "% endfor\n",
    "\n",
    "% for c in classes:\n",
    "    py::class_<${c.name}>(m,\"${c.name}\")\n",
    "    % for cc in c.constructors:\n",
    "        % if len(cc.arg_types)==0:\n",
    "        .def(py::init([](){return new ${c.name}();}))\n",
    "        % else:\n",
    "        .def(py::init<${', '.join(cc.arg_types)}>())\n",
    "        % endif\n",
    "    % endfor\n",
    "    % for f in c.functions:\n",
    "        .def(\"${f.name}\", &${c.name}::${f.name})\n",
    "    % endfor\n",
    "    % for f in c.fields:\n",
    "        .def_readwrite(\"${f.name}\", &${c.name}::${f.name})\n",
    "    % endfor\n",
    "    % for p in c.properties:\n",
    "         % if p.readonly:\n",
    "        .def_property_readonly(\"${p.name}\", &${c.name}::${p.getter.name})\n",
    "         % else:\n",
    "        .def_property(\"${p.name}\", &${c.name}::${p.getter.name}, &${c.name}::${p.setter.name})\n",
    "         % endif\n",
    "    % endfor\n",
    "    ;\n",
    "% endfor\n",
    "}\n",
    "\n",
    "\"\"\""
   ]
  },
  {
   "cell_type": "markdown",
   "metadata": {},
   "source": [
    "# 3. Generating the code"
   ]
  },
  {
   "cell_type": "code",
   "execution_count": 5,
   "metadata": {},
   "outputs": [
    {
     "name": "stdout",
     "output_type": "stream",
     "text": [
      "Generated File\n",
      "==============\n",
      "\n",
      "#include <pybind11/pybind11.h>\n",
      "#include \"textcomponent.h\"\n",
      "\n",
      "namespace py = pybind11;\n",
      "\n",
      "void bind_textcomponent(py::module & m)\n",
      "{\n",
      "    py::enum_<MYENUM>(m, \"MYENUM\", \"\")\n",
      "        .value(\"OPTION_1\", MYENUM::OPTION_1)\n",
      "        .value(\"OPTION_2\", MYENUM::OPTION_2)\n",
      "        .value(\"ALL\", MYENUM::ALL)\n",
      "        .export_values();\n",
      "\n",
      "    m.def(\"myfunc\",&myfunc);\n",
      "\n",
      "    py::class_<TextComponent>(m,\"TextComponent\")\n",
      "        .def(py::init([](){return new TextComponent();}))\n",
      "        .def(py::init<const std::string &>())\n",
      "        .def(py::init<const std::string &, int>())\n",
      "        .def(\"some_function\", &TextComponent::some_function)\n",
      "        .def_readwrite(\"myInt\", &TextComponent::myInt)\n",
      "        .def_property(\"Text\", &TextComponent::getText, &TextComponent::setText)\n",
      "        .def_property_readonly(\"ROText\", &TextComponent::getROText)\n",
      "    ;\n",
      "}\n",
      "\n",
      "\n",
      "Clang generated AST\n",
      "===================\n",
      "TRANSLATION_UNIT textcomponent.h\n",
      "  +--FUNCTION_DECL myfunc\n",
      "  |  +--PARM_DECL x\n",
      "  +--ENUM_DECL MYENUM\n",
      "  |  +--ENUM_CONSTANT_DECL OPTION_1\n",
      "  |  |  +--UNEXPOSED_EXPR None\n",
      "  |  |     +--INTEGER_LITERAL None\n",
      "  |  +--ENUM_CONSTANT_DECL OPTION_2\n",
      "  |  |  +--UNEXPOSED_EXPR None\n",
      "  |  |     +--INTEGER_LITERAL None\n",
      "  |  +--ENUM_CONSTANT_DECL ALL\n",
      "  |     +--UNEXPOSED_EXPR None\n",
      "  |        +--INTEGER_LITERAL None\n",
      "  +--CLASS_DECL TextComponent\n",
      "     +--CXX_ACCESS_SPEC_DECL None\n",
      "     +--CONSTRUCTOR TextComponent\n",
      "     +--CONSTRUCTOR TextComponent\n",
      "     |  +--PARM_DECL s\n",
      "     |     +--NAMESPACE_REF std\n",
      "     |     +--TYPE_REF string\n",
      "     +--CONSTRUCTOR TextComponent\n",
      "     |  +--PARM_DECL s\n",
      "     |  |  +--NAMESPACE_REF std\n",
      "     |  |  +--TYPE_REF string\n",
      "     |  +--PARM_DECL i\n",
      "     +--CXX_METHOD some_function\n",
      "     +--CXX_METHOD getText\n",
      "     |  +--NAMESPACE_REF std\n",
      "     |  +--TYPE_REF string\n",
      "     +--CXX_METHOD setText\n",
      "     |  +--PARM_DECL value\n",
      "     |     +--NAMESPACE_REF std\n",
      "     |     +--TYPE_REF string\n",
      "     +--CXX_METHOD getROText\n",
      "     |  +--NAMESPACE_REF std\n",
      "     |  +--TYPE_REF string\n",
      "     +--FIELD_DECL myInt\n",
      "     +--CXX_ACCESS_SPEC_DECL None\n",
      "     +--FIELD_DECL m_text\n",
      "     |  +--NAMESPACE_REF std\n",
      "     |  +--TYPE_REF string\n",
      "     +--FIELD_DECL RO_text\n",
      "        +--NAMESPACE_REF std\n",
      "        +--TYPE_REF string\n"
     ]
    }
   ],
   "source": [
    "fn='textcomponent.h'\n",
    "path=''\n",
    "\n",
    "#parsing the header file using clang\n",
    "index = clang.cindex.Index.create()\n",
    "translation_unit = index.parse(path+fn, ['-x', 'c++', '-std=c++11', '-D__CODE_GENERATOR__'])\n",
    "\n",
    "#building the object model for binding from the Clang data\n",
    "classes,functions,enums = build_object_model(translation_unit.cursor,path+fn)\n",
    "\n",
    "#creating the template and rendering it with the object model\n",
    "tpl = Template(text=bind_template)\n",
    "\n",
    "rendered = tpl.render(\n",
    "             classes=classes,\n",
    "             functions=functions,\n",
    "             enums=enums,\n",
    "             include_file=fn)\n",
    "\n",
    "#printing the resulting file and the Clang AST \n",
    "print(\"Generated File\")\n",
    "print(\"==============\")\n",
    "print(rendered)\n",
    "print(\"Clang generated AST\")\n",
    "print(\"===================\")\n",
    "print(dump_ast(translation_unit.cursor,path+fn))"
   ]
  },
  {
   "cell_type": "code",
   "execution_count": 6,
   "metadata": {},
   "outputs": [],
   "source": [
    "#If you wish you can save the generated code to a file.\n",
    "OUTPUT_DIR = '.'\n",
    "\n",
    "with open(OUTPUT_DIR + \"/py_{}.cpp\".format(fn[:fn.find('.h')]), \"w\") as f:\n",
    "    f.write(rendered)"
   ]
  },
  {
   "cell_type": "markdown",
   "metadata": {},
   "source": [
    "# 4. Building the module\n",
    "\n",
    "This should work on Linux. \n",
    "\n",
    "You might need to point your compiler to the path of the Python.h include file (/usr/include/python3.5m/ in my case)"
   ]
  },
  {
   "cell_type": "code",
   "execution_count": 7,
   "metadata": {},
   "outputs": [
    {
     "name": "stdout",
     "output_type": "stream",
     "text": [
      "/home/ranr/GoogleDrive/RanWork/code-generator/src\n"
     ]
    }
   ],
   "source": [
    "cd ../src/"
   ]
  },
  {
   "cell_type": "code",
   "execution_count": 8,
   "metadata": {},
   "outputs": [
    {
     "name": "stdout",
     "output_type": "stream",
     "text": [
      "mkdir: cannot create directory ‘../build’: File exists\r\n"
     ]
    }
   ],
   "source": [
    "!mkdir ../build\n",
    "!rm -f ../build/*.o ../build/example.so"
   ]
  },
  {
   "cell_type": "code",
   "execution_count": 9,
   "metadata": {},
   "outputs": [],
   "source": [
    "!g++ -c -g -I/usr/include/python3.5m/ -fPIC -o ../build/textcomponent.o textcomponent.cpp\n",
    "!g++ -c -g -I/usr/include/python3.5m/ -fPIC -o ../build/py_textcomponent.o py_textcomponent.cpp\n",
    "!g++ -c -g -I/usr/include/python3.5m/ -fPIC -o ../build/example.o example.cpp\n",
    "!g++  -o ../build/example.so -shared ../build/textcomponent.o ../build/py_textcomponent.o ../build/example.o -shared -fPIC "
   ]
  },
  {
   "cell_type": "markdown",
   "metadata": {},
   "source": [
    "# 5. Testing the module"
   ]
  },
  {
   "cell_type": "code",
   "execution_count": 10,
   "metadata": {},
   "outputs": [
    {
     "name": "stdout",
     "output_type": "stream",
     "text": [
      "/home/ranr/GoogleDrive/RanWork/code-generator/build\n"
     ]
    }
   ],
   "source": [
    "cd ../build"
   ]
  },
  {
   "cell_type": "code",
   "execution_count": 11,
   "metadata": {},
   "outputs": [],
   "source": [
    "import example\n"
   ]
  },
  {
   "cell_type": "code",
   "execution_count": 12,
   "metadata": {},
   "outputs": [
    {
     "data": {
      "text/plain": [
       "'Example'"
      ]
     },
     "execution_count": 12,
     "metadata": {},
     "output_type": "execute_result"
    }
   ],
   "source": [
    "example.name"
   ]
  },
  {
   "cell_type": "code",
   "execution_count": 13,
   "metadata": {},
   "outputs": [
    {
     "data": {
      "text/plain": [
       "26"
      ]
     },
     "execution_count": 13,
     "metadata": {},
     "output_type": "execute_result"
    }
   ],
   "source": [
    "example.myfunc(5.1)"
   ]
  },
  {
   "cell_type": "code",
   "execution_count": 14,
   "metadata": {},
   "outputs": [
    {
     "data": {
      "text/plain": [
       "MYENUM.OPTION_1"
      ]
     },
     "execution_count": 14,
     "metadata": {},
     "output_type": "execute_result"
    }
   ],
   "source": [
    "example.OPTION_1"
   ]
  },
  {
   "cell_type": "code",
   "execution_count": 15,
   "metadata": {},
   "outputs": [],
   "source": [
    "c=example.TextComponent(\"foo\")"
   ]
  },
  {
   "cell_type": "code",
   "execution_count": 16,
   "metadata": {},
   "outputs": [
    {
     "data": {
      "text/plain": [
       "1396104088"
      ]
     },
     "execution_count": 16,
     "metadata": {},
     "output_type": "execute_result"
    }
   ],
   "source": [
    "c.myInt #uninitialized"
   ]
  },
  {
   "cell_type": "code",
   "execution_count": 17,
   "metadata": {},
   "outputs": [],
   "source": [
    "c.myInt=5"
   ]
  },
  {
   "cell_type": "code",
   "execution_count": 18,
   "metadata": {},
   "outputs": [
    {
     "data": {
      "text/plain": [
       "5"
      ]
     },
     "execution_count": 18,
     "metadata": {},
     "output_type": "execute_result"
    }
   ],
   "source": [
    "c.myInt"
   ]
  },
  {
   "cell_type": "code",
   "execution_count": 19,
   "metadata": {},
   "outputs": [
    {
     "data": {
      "text/plain": [
       "\"can't touch this\""
      ]
     },
     "execution_count": 19,
     "metadata": {},
     "output_type": "execute_result"
    }
   ],
   "source": [
    "c.ROText"
   ]
  },
  {
   "cell_type": "code",
   "execution_count": 20,
   "metadata": {},
   "outputs": [
    {
     "ename": "AttributeError",
     "evalue": "can't set attribute",
     "output_type": "error",
     "traceback": [
      "\u001b[0;31m---------------------------------------------------------------------------\u001b[0m",
      "\u001b[0;31mAttributeError\u001b[0m                            Traceback (most recent call last)",
      "\u001b[0;32m<ipython-input-20-0070b1286c96>\u001b[0m in \u001b[0;36m<module>\u001b[0;34m()\u001b[0m\n\u001b[0;32m----> 1\u001b[0;31m \u001b[0mc\u001b[0m\u001b[0;34m.\u001b[0m\u001b[0mROText\u001b[0m\u001b[0;34m=\u001b[0m\u001b[0;34m\"won't work...\"\u001b[0m\u001b[0;34m\u001b[0m\u001b[0m\n\u001b[0m",
      "\u001b[0;31mAttributeError\u001b[0m: can't set attribute"
     ]
    }
   ],
   "source": [
    "c.ROText=\"won't work...\""
   ]
  },
  {
   "cell_type": "code",
   "execution_count": 21,
   "metadata": {},
   "outputs": [],
   "source": [
    "c.some_function() #output in the terrminal of the notebook server"
   ]
  },
  {
   "cell_type": "code",
   "execution_count": 22,
   "metadata": {},
   "outputs": [
    {
     "data": {
      "text/plain": [
       "'foo'"
      ]
     },
     "execution_count": 22,
     "metadata": {},
     "output_type": "execute_result"
    }
   ],
   "source": [
    "c.Text"
   ]
  },
  {
   "cell_type": "code",
   "execution_count": 23,
   "metadata": {},
   "outputs": [],
   "source": [
    "c.Text=\"bar\""
   ]
  },
  {
   "cell_type": "code",
   "execution_count": 24,
   "metadata": {},
   "outputs": [
    {
     "data": {
      "text/plain": [
       "'bar'"
      ]
     },
     "execution_count": 24,
     "metadata": {},
     "output_type": "execute_result"
    }
   ],
   "source": [
    "c.Text"
   ]
  },
  {
   "cell_type": "code",
   "execution_count": 25,
   "metadata": {},
   "outputs": [],
   "source": [
    "c1=example.TextComponent() "
   ]
  },
  {
   "cell_type": "code",
   "execution_count": 26,
   "metadata": {},
   "outputs": [
    {
     "data": {
      "text/plain": [
       "''"
      ]
     },
     "execution_count": 26,
     "metadata": {},
     "output_type": "execute_result"
    }
   ],
   "source": [
    "c1.Text"
   ]
  },
  {
   "cell_type": "code",
   "execution_count": 27,
   "metadata": {},
   "outputs": [],
   "source": [
    "c2=example.TextComponent(\"foobar\", 6)"
   ]
  },
  {
   "cell_type": "code",
   "execution_count": 28,
   "metadata": {},
   "outputs": [
    {
     "data": {
      "text/plain": [
       "('foobar', \"can't touch this\", 6)"
      ]
     },
     "execution_count": 28,
     "metadata": {},
     "output_type": "execute_result"
    }
   ],
   "source": [
    "c2.Text,c2.ROText,c2.myInt"
   ]
  },
  {
   "cell_type": "code",
   "execution_count": null,
   "metadata": {},
   "outputs": [],
   "source": []
  }
 ],
 "metadata": {
  "kernelspec": {
   "display_name": "Python 3",
   "language": "python",
   "name": "python3"
  },
  "language_info": {
   "codemirror_mode": {
    "name": "ipython",
    "version": 3
   },
   "file_extension": ".py",
   "mimetype": "text/x-python",
   "name": "python",
   "nbconvert_exporter": "python",
   "pygments_lexer": "ipython3",
   "version": "3.5.3"
  }
 },
 "nbformat": 4,
 "nbformat_minor": 2
}
